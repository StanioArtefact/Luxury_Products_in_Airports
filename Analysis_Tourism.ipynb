{
 "cells": [
  {
   "cell_type": "markdown",
   "metadata": {},
   "source": [
    "## Imports"
   ]
  },
  {
   "cell_type": "code",
   "execution_count": 2,
   "metadata": {},
   "outputs": [],
   "source": [
    "import pandas as pd\n",
    "import numpy as np"
   ]
  },
  {
   "cell_type": "markdown",
   "metadata": {},
   "source": [
    "### Import departures data"
   ]
  },
  {
   "cell_type": "code",
   "execution_count": 3,
   "metadata": {},
   "outputs": [],
   "source": [
    "departures = pd.read_csv('data/Tourism_Departures.csv', sep=';')"
   ]
  },
  {
   "cell_type": "markdown",
   "metadata": {},
   "source": [
    "### Import expenditures data"
   ]
  },
  {
   "cell_type": "code",
   "execution_count": 4,
   "metadata": {},
   "outputs": [],
   "source": [
    "expenditures = pd.read_csv('data/Tourism_Expenditures.csv', sep=';')"
   ]
  },
  {
   "cell_type": "markdown",
   "metadata": {},
   "source": [
    "## Process data"
   ]
  },
  {
   "cell_type": "markdown",
   "metadata": {},
   "source": [
    "### Remove NaN values"
   ]
  },
  {
   "cell_type": "code",
   "execution_count": 5,
   "metadata": {},
   "outputs": [],
   "source": [
    "# Remove NaN in departures dataframe\n",
    "departures.dropna(subset=['Value'], inplace=True)\n",
    "\n",
    "# Remove NaN in expenditures dataframe\n",
    "expenditures.dropna(subset=['Value'], inplace=True)"
   ]
  },
  {
   "cell_type": "markdown",
   "metadata": {},
   "source": [
    "### Remove rows corresponding to a total of Overnights visitors (tourists) and Same-day visitors (excursionists)"
   ]
  },
  {
   "cell_type": "markdown",
   "metadata": {},
   "source": [
    "#### Create a function to check if a row corresponds to a sum of other rows (i.e. for a same country and year)"
   ]
  },
  {
   "cell_type": "code",
   "execution_count": 6,
   "metadata": {},
   "outputs": [],
   "source": [
    "import pandas as pd\n",
    "import numpy as np\n",
    "\n",
    "def mark_total_rows(df):\n",
    "    df = df.copy()\n",
    "    df[\"Sum\"] = np.nan  # Nouvelle colonne à remplir\n",
    "\n",
    "    for (country, year), group in df.groupby([\"Country\", \"Year\"]):\n",
    "        if len(group) == 3:\n",
    "            values = group[\"Value\"].dropna().values\n",
    "            if len(values) == 3:\n",
    "                a, b, c = sorted(values)\n",
    "                if np.isclose(c, a + b):\n",
    "                    # Trouver la ligne du total et marquer \"Yes\"\n",
    "                    total_index = group[group[\"Value\"] == c].index\n",
    "                    if len(total_index) == 1:\n",
    "                        df.loc[total_index[0], \"Sum\"] = \"Yes\"\n",
    "    return df"
   ]
  },
  {
   "cell_type": "code",
   "execution_count": 7,
   "metadata": {},
   "outputs": [
    {
     "name": "stderr",
     "output_type": "stream",
     "text": [
      "/var/folders/4q/qgrz67gn6nv8xzf7h9gvs2180000gp/T/ipykernel_32949/3237421649.py:17: FutureWarning: Setting an item of incompatible dtype is deprecated and will raise an error in a future version of pandas. Value 'Yes' has dtype incompatible with float64, please explicitly cast to a compatible dtype first.\n",
      "  df.loc[total_index[0], \"Sum\"] = \"Yes\"\n",
      "/var/folders/4q/qgrz67gn6nv8xzf7h9gvs2180000gp/T/ipykernel_32949/3237421649.py:17: FutureWarning: Setting an item of incompatible dtype is deprecated and will raise an error in a future version of pandas. Value 'Yes' has dtype incompatible with float64, please explicitly cast to a compatible dtype first.\n",
      "  df.loc[total_index[0], \"Sum\"] = \"Yes\"\n"
     ]
    }
   ],
   "source": [
    "# Apply the function on departures\n",
    "departures = mark_total_rows(departures)\n",
    "\n",
    "# Apply the function on expenditures\n",
    "expenditures = mark_total_rows(expenditures)"
   ]
  },
  {
   "cell_type": "markdown",
   "metadata": {},
   "source": [
    "#### Remove the rows containing Yes"
   ]
  },
  {
   "cell_type": "code",
   "execution_count": 8,
   "metadata": {},
   "outputs": [],
   "source": [
    "# Remove these rows on departures\n",
    "departures = departures.query('Sum != \"Yes\"')\n",
    "\n",
    "# Remove these rows on expenditures\n",
    "expenditures = expenditures.query('Sum != \"Yes\"')"
   ]
  },
  {
   "cell_type": "markdown",
   "metadata": {},
   "source": [
    "### Remove the column Sum"
   ]
  },
  {
   "cell_type": "code",
   "execution_count": 9,
   "metadata": {},
   "outputs": [],
   "source": [
    "# Remove the column on departures\n",
    "departures.drop(columns=['Sum'], inplace=True)\n",
    "\n",
    "# Remove the column on expenditures\n",
    "expenditures.drop(columns=['Sum'], inplace=True)"
   ]
  },
  {
   "cell_type": "markdown",
   "metadata": {},
   "source": [
    "### Rename the column Value"
   ]
  },
  {
   "cell_type": "code",
   "execution_count": 10,
   "metadata": {},
   "outputs": [],
   "source": [
    "# Apply on departures\n",
    "departures = departures.rename(columns={'Value':'Number_of_Tourists'})\n",
    "\n",
    "# Apply on expenditures\n",
    "expenditures = expenditures.rename(columns={'Value':'Expenditure'})"
   ]
  },
  {
   "cell_type": "markdown",
   "metadata": {},
   "source": [
    "### Group all the categories of tourists in departures (we don't need to split between Overnight and same day visitors)"
   ]
  },
  {
   "cell_type": "code",
   "execution_count": 11,
   "metadata": {},
   "outputs": [],
   "source": [
    "departures = departures.groupby(['Country','Year'], as_index=False)['Number_of_Tourists'].sum()"
   ]
  },
  {
   "cell_type": "markdown",
   "metadata": {},
   "source": [
    "### Remove Passenger transport Expenditure in expenditures as we are not interested in how much tourists spend in transportation"
   ]
  },
  {
   "cell_type": "code",
   "execution_count": 12,
   "metadata": {},
   "outputs": [],
   "source": [
    "expenditures = expenditures.query('Category!=\"Passenger transport\"')"
   ]
  },
  {
   "cell_type": "markdown",
   "metadata": {},
   "source": [
    "### Remove the Category column in expenditures as we don't need it anymore"
   ]
  },
  {
   "cell_type": "code",
   "execution_count": 13,
   "metadata": {},
   "outputs": [],
   "source": [
    "expenditures.drop(columns='Category',inplace=True)"
   ]
  },
  {
   "cell_type": "markdown",
   "metadata": {},
   "source": [
    "## Merge data"
   ]
  },
  {
   "cell_type": "code",
   "execution_count": 14,
   "metadata": {},
   "outputs": [],
   "source": [
    "# Merge on rows corresponding exactly to the same country and the same year. Take only the rows included in both dataframes\n",
    "df = pd.merge(departures, expenditures, on=['Country','Year'], how='inner')"
   ]
  },
  {
   "cell_type": "markdown",
   "metadata": {},
   "source": [
    "## Add a column Expenditure per visitor"
   ]
  },
  {
   "cell_type": "markdown",
   "metadata": {},
   "source": [
    "### Convert the Expenditure data expressed in millions of $ to number"
   ]
  },
  {
   "cell_type": "code",
   "execution_count": 15,
   "metadata": {},
   "outputs": [],
   "source": [
    "df['Expenditure'] = df['Expenditure'] * 1000000"
   ]
  },
  {
   "cell_type": "markdown",
   "metadata": {},
   "source": [
    "### Convert the Visitors data expressed in thousands of people to number"
   ]
  },
  {
   "cell_type": "code",
   "execution_count": 16,
   "metadata": {},
   "outputs": [],
   "source": [
    "df['Number_of_Tourists'] = df['Number_of_Tourists'] * 1000"
   ]
  },
  {
   "cell_type": "code",
   "execution_count": 17,
   "metadata": {},
   "outputs": [],
   "source": [
    "df['Expenditure_per_Visitor'] = df['Expenditure'] / df['Number_of_Tourists']"
   ]
  },
  {
   "cell_type": "code",
   "execution_count": 18,
   "metadata": {},
   "outputs": [
    {
     "data": {
      "text/html": [
       "<div>\n",
       "<style scoped>\n",
       "    .dataframe tbody tr th:only-of-type {\n",
       "        vertical-align: middle;\n",
       "    }\n",
       "\n",
       "    .dataframe tbody tr th {\n",
       "        vertical-align: top;\n",
       "    }\n",
       "\n",
       "    .dataframe thead th {\n",
       "        text-align: right;\n",
       "    }\n",
       "</style>\n",
       "<table border=\"1\" class=\"dataframe\">\n",
       "  <thead>\n",
       "    <tr style=\"text-align: right;\">\n",
       "      <th></th>\n",
       "      <th>Country</th>\n",
       "      <th>Year</th>\n",
       "      <th>Number_of_Tourists</th>\n",
       "      <th>Expenditure</th>\n",
       "      <th>Expenditure_per_Visitor</th>\n",
       "    </tr>\n",
       "  </thead>\n",
       "  <tbody>\n",
       "    <tr>\n",
       "      <th>0</th>\n",
       "      <td>ALGERIA</td>\n",
       "      <td>1995</td>\n",
       "      <td>1090000.0</td>\n",
       "      <td>186000000.0</td>\n",
       "      <td>170.642202</td>\n",
       "    </tr>\n",
       "    <tr>\n",
       "      <th>1</th>\n",
       "      <td>ALGERIA</td>\n",
       "      <td>1996</td>\n",
       "      <td>874000.0</td>\n",
       "      <td>188000000.0</td>\n",
       "      <td>215.102975</td>\n",
       "    </tr>\n",
       "    <tr>\n",
       "      <th>2</th>\n",
       "      <td>ALGERIA</td>\n",
       "      <td>1997</td>\n",
       "      <td>827000.0</td>\n",
       "      <td>144000000.0</td>\n",
       "      <td>174.123337</td>\n",
       "    </tr>\n",
       "    <tr>\n",
       "      <th>3</th>\n",
       "      <td>ALGERIA</td>\n",
       "      <td>1998</td>\n",
       "      <td>879000.0</td>\n",
       "      <td>269000000.0</td>\n",
       "      <td>306.029579</td>\n",
       "    </tr>\n",
       "    <tr>\n",
       "      <th>4</th>\n",
       "      <td>ALGERIA</td>\n",
       "      <td>1999</td>\n",
       "      <td>903000.0</td>\n",
       "      <td>251000000.0</td>\n",
       "      <td>277.962348</td>\n",
       "    </tr>\n",
       "  </tbody>\n",
       "</table>\n",
       "</div>"
      ],
      "text/plain": [
       "   Country  Year  Number_of_Tourists  Expenditure  Expenditure_per_Visitor\n",
       "0  ALGERIA  1995           1090000.0  186000000.0               170.642202\n",
       "1  ALGERIA  1996            874000.0  188000000.0               215.102975\n",
       "2  ALGERIA  1997            827000.0  144000000.0               174.123337\n",
       "3  ALGERIA  1998            879000.0  269000000.0               306.029579\n",
       "4  ALGERIA  1999            903000.0  251000000.0               277.962348"
      ]
     },
     "execution_count": 18,
     "metadata": {},
     "output_type": "execute_result"
    }
   ],
   "source": [
    "df.head()"
   ]
  },
  {
   "cell_type": "markdown",
   "metadata": {},
   "source": [
    "## Keep only three columns: Country, Year and Expenditure_per_Visitor"
   ]
  },
  {
   "cell_type": "code",
   "execution_count": 19,
   "metadata": {},
   "outputs": [],
   "source": [
    "df = df[['Country', 'Year', 'Expenditure_per_Visitor']]"
   ]
  },
  {
   "cell_type": "markdown",
   "metadata": {},
   "source": [
    "## Export the final dataframe for data vizualisation"
   ]
  },
  {
   "cell_type": "code",
   "execution_count": 21,
   "metadata": {},
   "outputs": [],
   "source": [
    "df.to_csv('Visitors_Spendings.csv')"
   ]
  }
 ],
 "metadata": {
  "kernelspec": {
   "display_name": "lux",
   "language": "python",
   "name": "python3"
  },
  "language_info": {
   "codemirror_mode": {
    "name": "ipython",
    "version": 3
   },
   "file_extension": ".py",
   "mimetype": "text/x-python",
   "name": "python",
   "nbconvert_exporter": "python",
   "pygments_lexer": "ipython3",
   "version": "3.13.2"
  }
 },
 "nbformat": 4,
 "nbformat_minor": 2
}
