{
 "cells": [
  {
   "cell_type": "markdown",
   "metadata": {},
   "source": [
    "## Imports"
   ]
  },
  {
   "cell_type": "code",
   "execution_count": 70,
   "metadata": {},
   "outputs": [],
   "source": [
    "import pandas as pd\n",
    "import numpy as np"
   ]
  },
  {
   "cell_type": "markdown",
   "metadata": {},
   "source": [
    "### Import departures data"
   ]
  },
  {
   "cell_type": "markdown",
   "metadata": {},
   "source": [
    "The source of the data is World Bank Open Data: https://data.worldbank.org/indicator/ST.INT.DPRT.  \n",
    "Departures refer to residents leaving the country for tourism or business purposes."
   ]
  },
  {
   "cell_type": "code",
   "execution_count": 71,
   "metadata": {},
   "outputs": [],
   "source": [
    "departures = pd.read_csv('data/Tourism_Departures.csv', sep=';')"
   ]
  },
  {
   "cell_type": "code",
   "execution_count": 72,
   "metadata": {},
   "outputs": [
    {
     "data": {
      "text/html": [
       "<div>\n",
       "<style scoped>\n",
       "    .dataframe tbody tr th:only-of-type {\n",
       "        vertical-align: middle;\n",
       "    }\n",
       "\n",
       "    .dataframe tbody tr th {\n",
       "        vertical-align: top;\n",
       "    }\n",
       "\n",
       "    .dataframe thead th {\n",
       "        text-align: right;\n",
       "    }\n",
       "</style>\n",
       "<table border=\"1\" class=\"dataframe\">\n",
       "  <thead>\n",
       "    <tr style=\"text-align: right;\">\n",
       "      <th></th>\n",
       "      <th>Country</th>\n",
       "      <th>Visitor_Type</th>\n",
       "      <th>Year</th>\n",
       "      <th>Value</th>\n",
       "    </tr>\n",
       "  </thead>\n",
       "  <tbody>\n",
       "    <tr>\n",
       "      <th>0</th>\n",
       "      <td>ALBANIA</td>\n",
       "      <td>Overnights visitors (tourists)</td>\n",
       "      <td>1995</td>\n",
       "      <td>NaN</td>\n",
       "    </tr>\n",
       "    <tr>\n",
       "      <th>1</th>\n",
       "      <td>ALBANIA</td>\n",
       "      <td>Same-day visitors (excursionists)</td>\n",
       "      <td>1995</td>\n",
       "      <td>NaN</td>\n",
       "    </tr>\n",
       "    <tr>\n",
       "      <th>2</th>\n",
       "      <td>ALGERIA</td>\n",
       "      <td>Same-day visitors (excursionists)</td>\n",
       "      <td>1995</td>\n",
       "      <td>NaN</td>\n",
       "    </tr>\n",
       "    <tr>\n",
       "      <th>3</th>\n",
       "      <td>ALGERIA</td>\n",
       "      <td>Same-day visitors (excursionists)</td>\n",
       "      <td>1995</td>\n",
       "      <td>NaN</td>\n",
       "    </tr>\n",
       "    <tr>\n",
       "      <th>4</th>\n",
       "      <td>ALGERIA</td>\n",
       "      <td>Same-day visitors (excursionists)</td>\n",
       "      <td>1995</td>\n",
       "      <td>NaN</td>\n",
       "    </tr>\n",
       "  </tbody>\n",
       "</table>\n",
       "</div>"
      ],
      "text/plain": [
       "   Country                       Visitor_Type  Year  Value\n",
       "0  ALBANIA     Overnights visitors (tourists)  1995    NaN\n",
       "1  ALBANIA  Same-day visitors (excursionists)  1995    NaN\n",
       "2  ALGERIA  Same-day visitors (excursionists)  1995    NaN\n",
       "3  ALGERIA  Same-day visitors (excursionists)  1995    NaN\n",
       "4  ALGERIA  Same-day visitors (excursionists)  1995    NaN"
      ]
     },
     "execution_count": 72,
     "metadata": {},
     "output_type": "execute_result"
    }
   ],
   "source": [
    "departures.head()\n",
    "# Country = Country of origin of the person traveling abroad\n",
    "# Year = Year in which the person traveled abroad for tourism or business purposes\n",
    "# Number_of_Tourists = Number of people from the country who traveled abroad during the year.\n",
    "# If someone leaves the country twice in the same year for tourism purposes, this individual will be counted twice."
   ]
  },
  {
   "cell_type": "markdown",
   "metadata": {},
   "source": [
    "### Import expenditures data"
   ]
  },
  {
   "cell_type": "markdown",
   "metadata": {},
   "source": [
    "The source of the data is World Bank Open Data: https://data.worldbank.org/indicator/ST.INT.TRNX.CD.  \n",
    "Expenditures refer to the total spending made by residents of the mentioned country when visiting foreign countries for tourism purposes. It includes:  "
   ]
  },
  {
   "cell_type": "code",
   "execution_count": 73,
   "metadata": {},
   "outputs": [],
   "source": [
    "expenditures = pd.read_csv('data/Tourism_Expenditures.csv', sep=';')"
   ]
  },
  {
   "cell_type": "code",
   "execution_count": 74,
   "metadata": {},
   "outputs": [
    {
     "data": {
      "text/html": [
       "<div>\n",
       "<style scoped>\n",
       "    .dataframe tbody tr th:only-of-type {\n",
       "        vertical-align: middle;\n",
       "    }\n",
       "\n",
       "    .dataframe tbody tr th {\n",
       "        vertical-align: top;\n",
       "    }\n",
       "\n",
       "    .dataframe thead th {\n",
       "        text-align: right;\n",
       "    }\n",
       "</style>\n",
       "<table border=\"1\" class=\"dataframe\">\n",
       "  <thead>\n",
       "    <tr style=\"text-align: right;\">\n",
       "      <th></th>\n",
       "      <th>Country</th>\n",
       "      <th>Category</th>\n",
       "      <th>Year</th>\n",
       "      <th>Value</th>\n",
       "    </tr>\n",
       "  </thead>\n",
       "  <tbody>\n",
       "    <tr>\n",
       "      <th>0</th>\n",
       "      <td>AFGHANISTAN</td>\n",
       "      <td>NaN</td>\n",
       "      <td>1995</td>\n",
       "      <td>NaN</td>\n",
       "    </tr>\n",
       "    <tr>\n",
       "      <th>1</th>\n",
       "      <td>AFGHANISTAN</td>\n",
       "      <td>Travel</td>\n",
       "      <td>1995</td>\n",
       "      <td>NaN</td>\n",
       "    </tr>\n",
       "    <tr>\n",
       "      <th>2</th>\n",
       "      <td>AFGHANISTAN</td>\n",
       "      <td>Passenger transport</td>\n",
       "      <td>1995</td>\n",
       "      <td>NaN</td>\n",
       "    </tr>\n",
       "    <tr>\n",
       "      <th>3</th>\n",
       "      <td>ALBANIA</td>\n",
       "      <td>NaN</td>\n",
       "      <td>1995</td>\n",
       "      <td>NaN</td>\n",
       "    </tr>\n",
       "    <tr>\n",
       "      <th>4</th>\n",
       "      <td>ALBANIA</td>\n",
       "      <td>NaN</td>\n",
       "      <td>1995</td>\n",
       "      <td>19.0</td>\n",
       "    </tr>\n",
       "  </tbody>\n",
       "</table>\n",
       "</div>"
      ],
      "text/plain": [
       "       Country             Category  Year  Value\n",
       "0  AFGHANISTAN                  NaN  1995    NaN\n",
       "1  AFGHANISTAN               Travel  1995    NaN\n",
       "2  AFGHANISTAN  Passenger transport  1995    NaN\n",
       "3      ALBANIA                  NaN  1995    NaN\n",
       "4      ALBANIA                  NaN  1995   19.0"
      ]
     },
     "execution_count": 74,
     "metadata": {},
     "output_type": "execute_result"
    }
   ],
   "source": [
    "expenditures.head()\n",
    "# Country = Country of origin of the person traveling abroad\n",
    "# Year = Year in which the person traveled abroad for tourism or business purposes\n",
    "# Category = Passenger transport (Airfare, Items purchased on board) and Travel (Accomodation, Food, Duty-free purchases)"
   ]
  },
  {
   "cell_type": "markdown",
   "metadata": {},
   "source": [
    "## Process data"
   ]
  },
  {
   "cell_type": "markdown",
   "metadata": {},
   "source": [
    "### Remove NaN values"
   ]
  },
  {
   "cell_type": "code",
   "execution_count": 75,
   "metadata": {},
   "outputs": [],
   "source": [
    "# Remove NaN in departures dataframe\n",
    "departures.dropna(subset=['Value'], inplace=True)\n",
    "\n",
    "# Remove NaN in expenditures dataframe\n",
    "expenditures.dropna(subset=['Value'], inplace=True)"
   ]
  },
  {
   "cell_type": "markdown",
   "metadata": {},
   "source": [
    "### Remove rows corresponding to a total of Overnights visitors (tourists) and Same-day visitors (excursionists)"
   ]
  },
  {
   "cell_type": "markdown",
   "metadata": {},
   "source": [
    "#### Create a function to check if a row corresponds to a sum of other rows (i.e. for a same country and year)"
   ]
  },
  {
   "cell_type": "code",
   "execution_count": 76,
   "metadata": {},
   "outputs": [],
   "source": [
    "import pandas as pd\n",
    "import numpy as np\n",
    "\n",
    "def mark_total_rows(df):\n",
    "    df = df.copy()\n",
    "    df[\"Sum\"] = np.nan  # Sum column is created \n",
    "\n",
    "    for (country, year), group in df.groupby([\"Country\", \"Year\"]):\n",
    "        if len(group) == 3:\n",
    "            values = group[\"Value\"].dropna().values\n",
    "            if len(values) == 3:\n",
    "                a, b, c = sorted(values)\n",
    "                if np.isclose(c, a + b):\n",
    "                    # Trouver la ligne du total et marquer \"Yes\"\n",
    "                    total_index = group[group[\"Value\"] == c].index\n",
    "                    if len(total_index) == 1:\n",
    "                        df.loc[total_index[0], \"Sum\"] = \"Yes\"\n",
    "    return df"
   ]
  },
  {
   "cell_type": "code",
   "execution_count": 77,
   "metadata": {},
   "outputs": [
    {
     "name": "stderr",
     "output_type": "stream",
     "text": [
      "C:\\Users\\stanislas.dhuart_art\\AppData\\Local\\Temp\\ipykernel_27712\\845181461.py:17: FutureWarning: Setting an item of incompatible dtype is deprecated and will raise an error in a future version of pandas. Value 'Yes' has dtype incompatible with float64, please explicitly cast to a compatible dtype first.\n",
      "  df.loc[total_index[0], \"Sum\"] = \"Yes\"\n",
      "C:\\Users\\stanislas.dhuart_art\\AppData\\Local\\Temp\\ipykernel_27712\\845181461.py:17: FutureWarning: Setting an item of incompatible dtype is deprecated and will raise an error in a future version of pandas. Value 'Yes' has dtype incompatible with float64, please explicitly cast to a compatible dtype first.\n",
      "  df.loc[total_index[0], \"Sum\"] = \"Yes\"\n"
     ]
    }
   ],
   "source": [
    "# Apply the function on departures\n",
    "departures = mark_total_rows(departures)\n",
    "\n",
    "# Apply the function on expenditures\n",
    "expenditures = mark_total_rows(expenditures)"
   ]
  },
  {
   "cell_type": "markdown",
   "metadata": {},
   "source": [
    "#### Remove the rows containing Yes"
   ]
  },
  {
   "cell_type": "code",
   "execution_count": 78,
   "metadata": {},
   "outputs": [],
   "source": [
    "# Remove these rows on departures\n",
    "departures = departures.query('Sum != \"Yes\"')\n",
    "\n",
    "# Remove these rows on expenditures\n",
    "expenditures = expenditures.query('Sum != \"Yes\"')"
   ]
  },
  {
   "cell_type": "markdown",
   "metadata": {},
   "source": [
    "### Remove the column Sum"
   ]
  },
  {
   "cell_type": "code",
   "execution_count": 79,
   "metadata": {},
   "outputs": [],
   "source": [
    "# Remove the column on departures\n",
    "departures.drop(columns=['Sum'], inplace=True)\n",
    "\n",
    "# Remove the column on expenditures\n",
    "expenditures.drop(columns=['Sum'], inplace=True)"
   ]
  },
  {
   "cell_type": "markdown",
   "metadata": {},
   "source": [
    "### Rename the column Value"
   ]
  },
  {
   "cell_type": "code",
   "execution_count": 80,
   "metadata": {},
   "outputs": [],
   "source": [
    "# Apply on departures\n",
    "departures = departures.rename(columns={'Value':'Number_of_Tourists'})\n",
    "\n",
    "# Apply on expenditures\n",
    "expenditures = expenditures.rename(columns={'Value':'Expenditure'})"
   ]
  },
  {
   "cell_type": "markdown",
   "metadata": {},
   "source": [
    "### Group all the categories of tourists in departures (we don't need to split between Overnight and same day visitors)"
   ]
  },
  {
   "cell_type": "code",
   "execution_count": 81,
   "metadata": {},
   "outputs": [],
   "source": [
    "departures = departures.groupby(['Country','Year'], as_index=False)['Number_of_Tourists'].sum()"
   ]
  },
  {
   "cell_type": "markdown",
   "metadata": {},
   "source": [
    "### Remove Passenger transport Expenditure in expenditures as we are not interested in how much tourists spend in transportation"
   ]
  },
  {
   "cell_type": "code",
   "execution_count": 82,
   "metadata": {},
   "outputs": [],
   "source": [
    "expenditures = expenditures.query('Category!=\"Passenger transport\"')"
   ]
  },
  {
   "cell_type": "markdown",
   "metadata": {},
   "source": [
    "### Remove the Category column in expenditures as we don't need it anymore"
   ]
  },
  {
   "cell_type": "code",
   "execution_count": 83,
   "metadata": {},
   "outputs": [],
   "source": [
    "expenditures.drop(columns='Category',inplace=True)"
   ]
  },
  {
   "cell_type": "markdown",
   "metadata": {},
   "source": [
    "## Merge data"
   ]
  },
  {
   "cell_type": "code",
   "execution_count": 84,
   "metadata": {},
   "outputs": [],
   "source": [
    "# Merge on rows corresponding exactly to the same country and the same year. Take only the rows included in both dataframes\n",
    "df = pd.merge(departures, expenditures, on=['Country','Year'], how='inner')"
   ]
  },
  {
   "cell_type": "markdown",
   "metadata": {},
   "source": [
    "## Add a column Expenditure per visitor"
   ]
  },
  {
   "cell_type": "markdown",
   "metadata": {},
   "source": [
    "### Convert the Expenditure data expressed in millions of $ to number"
   ]
  },
  {
   "cell_type": "code",
   "execution_count": 85,
   "metadata": {},
   "outputs": [],
   "source": [
    "df['Expenditure'] = df['Expenditure'] * 1000000"
   ]
  },
  {
   "cell_type": "markdown",
   "metadata": {},
   "source": [
    "### Convert the Visitors data expressed in thousands of people to number"
   ]
  },
  {
   "cell_type": "code",
   "execution_count": 86,
   "metadata": {},
   "outputs": [],
   "source": [
    "df['Number_of_Tourists'] = df['Number_of_Tourists'] * 1000"
   ]
  },
  {
   "cell_type": "markdown",
   "metadata": {},
   "source": [
    "### Remove duplicates"
   ]
  },
  {
   "cell_type": "code",
   "execution_count": 87,
   "metadata": {},
   "outputs": [],
   "source": [
    "df.drop_duplicates(inplace=True)"
   ]
  },
  {
   "cell_type": "markdown",
   "metadata": {},
   "source": [
    "### Keep only the rows where the number of tourists exceeds 500,000"
   ]
  },
  {
   "cell_type": "markdown",
   "metadata": {},
   "source": [
    "As the final objective of this project is to target visitors by their country of origin, we will only retain countries that generate at least 500,000 visitors in a given year.  \n",
    "This ensures a sufficient pool of visitors should we decide to deploy a targeted campaign for a specific country."
   ]
  },
  {
   "cell_type": "code",
   "execution_count": 88,
   "metadata": {},
   "outputs": [],
   "source": [
    "df = df.query('Number_of_Tourists>500000')"
   ]
  },
  {
   "cell_type": "markdown",
   "metadata": {},
   "source": [
    "### Calculate Expenditure per Visitor"
   ]
  },
  {
   "cell_type": "code",
   "execution_count": 89,
   "metadata": {},
   "outputs": [],
   "source": [
    "df['Expenditure_per_Visitor'] = df['Expenditure'] / df['Number_of_Tourists']"
   ]
  },
  {
   "cell_type": "code",
   "execution_count": 90,
   "metadata": {},
   "outputs": [
    {
     "data": {
      "text/html": [
       "<div>\n",
       "<style scoped>\n",
       "    .dataframe tbody tr th:only-of-type {\n",
       "        vertical-align: middle;\n",
       "    }\n",
       "\n",
       "    .dataframe tbody tr th {\n",
       "        vertical-align: top;\n",
       "    }\n",
       "\n",
       "    .dataframe thead th {\n",
       "        text-align: right;\n",
       "    }\n",
       "</style>\n",
       "<table border=\"1\" class=\"dataframe\">\n",
       "  <thead>\n",
       "    <tr style=\"text-align: right;\">\n",
       "      <th></th>\n",
       "      <th>Country</th>\n",
       "      <th>Year</th>\n",
       "      <th>Number_of_Tourists</th>\n",
       "      <th>Expenditure</th>\n",
       "      <th>Expenditure_per_Visitor</th>\n",
       "    </tr>\n",
       "  </thead>\n",
       "  <tbody>\n",
       "    <tr>\n",
       "      <th>0</th>\n",
       "      <td>ALGERIA</td>\n",
       "      <td>1995</td>\n",
       "      <td>1090000.0</td>\n",
       "      <td>186000000.0</td>\n",
       "      <td>170.642202</td>\n",
       "    </tr>\n",
       "    <tr>\n",
       "      <th>1</th>\n",
       "      <td>ALGERIA</td>\n",
       "      <td>1996</td>\n",
       "      <td>874000.0</td>\n",
       "      <td>188000000.0</td>\n",
       "      <td>215.102975</td>\n",
       "    </tr>\n",
       "    <tr>\n",
       "      <th>2</th>\n",
       "      <td>ALGERIA</td>\n",
       "      <td>1997</td>\n",
       "      <td>827000.0</td>\n",
       "      <td>144000000.0</td>\n",
       "      <td>174.123337</td>\n",
       "    </tr>\n",
       "    <tr>\n",
       "      <th>3</th>\n",
       "      <td>ALGERIA</td>\n",
       "      <td>1998</td>\n",
       "      <td>879000.0</td>\n",
       "      <td>269000000.0</td>\n",
       "      <td>306.029579</td>\n",
       "    </tr>\n",
       "    <tr>\n",
       "      <th>4</th>\n",
       "      <td>ALGERIA</td>\n",
       "      <td>1999</td>\n",
       "      <td>903000.0</td>\n",
       "      <td>251000000.0</td>\n",
       "      <td>277.962348</td>\n",
       "    </tr>\n",
       "  </tbody>\n",
       "</table>\n",
       "</div>"
      ],
      "text/plain": [
       "   Country  Year  Number_of_Tourists  Expenditure  Expenditure_per_Visitor\n",
       "0  ALGERIA  1995           1090000.0  186000000.0               170.642202\n",
       "1  ALGERIA  1996            874000.0  188000000.0               215.102975\n",
       "2  ALGERIA  1997            827000.0  144000000.0               174.123337\n",
       "3  ALGERIA  1998            879000.0  269000000.0               306.029579\n",
       "4  ALGERIA  1999            903000.0  251000000.0               277.962348"
      ]
     },
     "execution_count": 90,
     "metadata": {},
     "output_type": "execute_result"
    }
   ],
   "source": [
    "df.head()"
   ]
  },
  {
   "cell_type": "markdown",
   "metadata": {},
   "source": [
    "## Keep only three columns: Country, Year and Expenditure_per_Visitor"
   ]
  },
  {
   "cell_type": "code",
   "execution_count": 91,
   "metadata": {},
   "outputs": [],
   "source": [
    "df = df[['Country', 'Year', 'Expenditure_per_Visitor']]"
   ]
  },
  {
   "cell_type": "markdown",
   "metadata": {},
   "source": [
    "## Export the final dataframe for data vizualisation"
   ]
  },
  {
   "cell_type": "code",
   "execution_count": 92,
   "metadata": {},
   "outputs": [],
   "source": [
    "df.to_csv('Visitors_Spendings.csv')"
   ]
  }
 ],
 "metadata": {
  "kernelspec": {
   "display_name": "Python (tourism)",
   "language": "python",
   "name": "tourism"
  },
  "language_info": {
   "codemirror_mode": {
    "name": "ipython",
    "version": 3
   },
   "file_extension": ".py",
   "mimetype": "text/x-python",
   "name": "python",
   "nbconvert_exporter": "python",
   "pygments_lexer": "ipython3",
   "version": "3.13.3"
  }
 },
 "nbformat": 4,
 "nbformat_minor": 2
}
